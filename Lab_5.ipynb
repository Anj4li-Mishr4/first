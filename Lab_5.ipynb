{
  "nbformat": 4,
  "nbformat_minor": 0,
  "metadata": {
    "colab": {
      "provenance": [],
      "authorship_tag": "ABX9TyPfqp8vQpkUHiqX0HHQ5/MA",
      "include_colab_link": true
    },
    "kernelspec": {
      "name": "python3",
      "display_name": "Python 3"
    },
    "language_info": {
      "name": "python"
    }
  },
  "cells": [
    {
      "cell_type": "markdown",
      "metadata": {
        "id": "view-in-github",
        "colab_type": "text"
      },
      "source": [
        "<a href=\"https://colab.research.google.com/github/Anj4li-Mishr4/first/blob/main/Lab_5.ipynb\" target=\"_parent\"><img src=\"https://colab.research.google.com/assets/colab-badge.svg\" alt=\"Open In Colab\"/></a>"
      ]
    },
    {
      "cell_type": "code",
      "execution_count": null,
      "metadata": {
        "colab": {
          "base_uri": "https://localhost:8080/"
        },
        "id": "o0ceEU97jQ9B",
        "outputId": "0d2b9686-3a78-4b1d-960e-46f79de64ff9"
      },
      "outputs": [
        {
          "output_type": "stream",
          "name": "stdout",
          "text": [
            "Hard-Coded: At time 4, temperature is 15\n"
          ]
        }
      ],
      "source": [
        "# Stage 1: Hard-Coding Variables\n",
        "def calculate_temperature(a, b, c, time):\n",
        "    return a * time**2 + b * time + c\n",
        "\n",
        "# Hard-coded values\n",
        "a = 2\n",
        "b = -5\n",
        "c = 3\n",
        "time = 4\n",
        "temperature = calculate_temperature(a, b, c, time)\n",
        "print(f\"Hard-Coded: At time {time}, temperature is {temperature}\")"
      ]
    },
    {
      "cell_type": "code",
      "source": [
        "# Stage 2: Keyboard Input\n",
        "def input_stage():\n",
        "    try:\n",
        "        a = float(input(\"Enter the coefficient a: \"))\n",
        "        b = float(input(\"Enter the coefficient b: \"))\n",
        "        c = float(input(\"Enter the coefficient c: \"))\n",
        "        time = float(input(\"Enter the time: \"))\n",
        "        temperature = calculate_temperature(a, b, c, time)\n",
        "        print(f\"Input Stage: At time {time}, temperature is {temperature}\")\n",
        "    except ValueError:\n",
        "        print(\"Invalid input. Please enter numeric values.\")\n",
        "\n",
        "input_stage()"
      ],
      "metadata": {
        "colab": {
          "base_uri": "https://localhost:8080/"
        },
        "id": "qckqX1xrlAON",
        "outputId": "0d6c1185-4e0a-45c9-b012-b58f5348454d"
      },
      "execution_count": null,
      "outputs": [
        {
          "output_type": "stream",
          "name": "stdout",
          "text": [
            "Enter the coefficient a: 3\n",
            "Enter the coefficient b: 4\n",
            "Enter the coefficient c: 5\n",
            "Enter the time: 5\n",
            "Input Stage: At time 5.0, temperature is 100.0\n"
          ]
        }
      ]
    },
    {
      "cell_type": "code",
      "source": [
        "# Stage 3: Read from a File\n",
        "def read_from_file(file_path):\n",
        "    try:\n",
        "        with open(file_path, 'r') as file:\n",
        "            data = file.readline().strip().split(',')\n",
        "            a, b, c, time = map(float, data)\n",
        "            temperature = calculate_temperature(a, b, c, time)\n",
        "            print(f\"File Stage: At time {time}, temperature is {temperature}\")\n",
        "    except FileNotFoundError:\n",
        "        print(\"File not found. Please check the file path.\")\n",
        "    except ValueError:\n",
        "        print(\"Invalid file format. Ensure the file contains comma-separated numeric values.\")\n",
        "\n",
        "read_from_file('input.txt')\n"
      ],
      "metadata": {
        "colab": {
          "base_uri": "https://localhost:8080/"
        },
        "id": "FiMQae3BlhDE",
        "outputId": "5c92b61f-0e35-4b8d-b004-b16369ec5659"
      },
      "execution_count": null,
      "outputs": [
        {
          "output_type": "stream",
          "name": "stdout",
          "text": [
            "File Stage: At time 4.0, temperature is 15.0\n"
          ]
        }
      ]
    },
    {
      "cell_type": "code",
      "source": [
        "# Stage 4: Single Set of Inputs\n",
        "def read_from_file(file_path):\n",
        "    try:\n",
        "        with open(file_path, 'r') as file:\n",
        "            data = file.readline().strip().split(',')\n",
        "            a, b, c, time = map(float, data)\n",
        "            temperature = calculate_temperature(a, b, c, time)\n",
        "            print(f\"File Stage: At time {time}, temperature is {temperature}\")\n",
        "    except FileNotFoundError:\n",
        "        print(\"File not found. Please check the file path.\")\n",
        "    except ValueError:\n",
        "        print(\"Invalid file format. Ensure the file contains comma-separated numeric values.\")\n",
        "def single_set():\n",
        "    print(\"Single set of inputs from file:\")\n",
        "    try:\n",
        "        read_from_file('single_input.txt')\n",
        "    except Exception as e:\n",
        "        print(f\"An error occurred: {e}\")\n",
        "\n",
        "single_set()\n"
      ],
      "metadata": {
        "colab": {
          "base_uri": "https://localhost:8080/"
        },
        "id": "ZBTu74u5mRic",
        "outputId": "03e84c79-ab50-4952-8551-b169989ea76a"
      },
      "execution_count": null,
      "outputs": [
        {
          "output_type": "stream",
          "name": "stdout",
          "text": [
            "Single set of inputs from file:\n",
            "File Stage: At time 4.0, temperature is 15.0\n"
          ]
        }
      ]
    },
    {
      "cell_type": "code",
      "source": [
        "# Stage 5: Multiple Sets of Inputs\n",
        "def multiple_sets(file_path):\n",
        "    try:\n",
        "        with open(file_path, 'r') as file:\n",
        "            for line in file:\n",
        "                data = line.strip().split(',')\n",
        "                a, b, c, time = map(float, data)\n",
        "                temperature = calculate_temperature(a, b, c, time)\n",
        "                print(f\"At time {time}, temperature is {temperature}\")\n",
        "    except FileNotFoundError:\n",
        "        print(\"File not found. Please check the file path.\")\n",
        "    except ValueError:\n",
        "        print(\"Invalid file format. Ensure the file contains comma-separated numeric values.\")\n",
        "\n",
        "\n",
        "multiple_sets('multiple_inputs.txt')\n"
      ],
      "metadata": {
        "colab": {
          "base_uri": "https://localhost:8080/"
        },
        "id": "DIj1OZMzncFz",
        "outputId": "441eab4b-1b0f-4eda-da07-2a1d07f4637b"
      },
      "execution_count": null,
      "outputs": [
        {
          "output_type": "stream",
          "name": "stdout",
          "text": [
            "At time 4.0, temperature is 15.0\n",
            "At time 3.0, temperature is 7.0\n",
            "At time 2.0, temperature is 1.0\n",
            "At time 5.0, temperature is 57.0\n",
            "At time 1.0, temperature is 0.5\n"
          ]
        }
      ]
    },
    {
      "cell_type": "code",
      "source": [
        "\n",
        "!git branch -M main\n"
      ],
      "metadata": {
        "id": "PWFB_MXGuPWl"
      },
      "execution_count": 11,
      "outputs": []
    },
    {
      "cell_type": "code",
      "source": [],
      "metadata": {
        "id": "VBpYHQxfve8w"
      },
      "execution_count": 9,
      "outputs": []
    }
  ]
}